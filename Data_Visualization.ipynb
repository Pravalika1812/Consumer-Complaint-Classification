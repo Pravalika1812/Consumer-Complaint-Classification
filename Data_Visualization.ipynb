{
  "nbformat": 4,
  "nbformat_minor": 0,
  "metadata": {
    "colab": {
      "provenance": [],
      "authorship_tag": "ABX9TyM9D87pIP2yPYztomcBNSCI",
      "include_colab_link": true
    },
    "kernelspec": {
      "name": "python3",
      "display_name": "Python 3"
    },
    "language_info": {
      "name": "python"
    }
  },
  "cells": [
    {
      "cell_type": "markdown",
      "metadata": {
        "id": "view-in-github",
        "colab_type": "text"
      },
      "source": [
        "<a href=\"https://colab.research.google.com/github/Pravalika1812/Consumer-Complaint-Classification/blob/main/Data_Visualization.ipynb\" target=\"_parent\"><img src=\"https://colab.research.google.com/assets/colab-badge.svg\" alt=\"Open In Colab\"/></a>"
      ]
    },
    {
      "cell_type": "code",
      "execution_count": null,
      "metadata": {
        "id": "DUMSU5eY4Wm4"
      },
      "outputs": [],
      "source": [
        "import pandas as pd\n",
        "from google.colab import drive\n",
        "import numpy as np"
      ]
    },
    {
      "cell_type": "code",
      "source": [
        "drive.mount('/content/drive/', force_remount=True)"
      ],
      "metadata": {
        "colab": {
          "base_uri": "https://localhost:8080/"
        },
        "id": "3YLQyyMP4b1P",
        "outputId": "934cd759-a317-4d13-b9cd-c2307a0a0d60"
      },
      "execution_count": null,
      "outputs": [
        {
          "output_type": "stream",
          "name": "stdout",
          "text": [
            "Mounted at /content/drive/\n"
          ]
        }
      ]
    },
    {
      "cell_type": "code",
      "source": [
        "file_path = '/content/drive/MyDrive/NLP/NLP_PROJECT3/filtered_complaints_train_data.csv'"
      ],
      "metadata": {
        "id": "FHPPt5ZE4i9w"
      },
      "execution_count": null,
      "outputs": []
    },
    {
      "cell_type": "code",
      "source": [
        "df = pd.read_csv(file_path)"
      ],
      "metadata": {
        "id": "PCL36Vdg4ukt"
      },
      "execution_count": null,
      "outputs": []
    },
    {
      "cell_type": "code",
      "source": [
        "df.shape"
      ],
      "metadata": {
        "colab": {
          "base_uri": "https://localhost:8080/"
        },
        "id": "0lN5qAWp4xRF",
        "outputId": "533eeb47-7768-44be-ed17-3b2c620279da"
      },
      "execution_count": null,
      "outputs": [
        {
          "output_type": "execute_result",
          "data": {
            "text/plain": [
              "(140000, 4)"
            ]
          },
          "metadata": {},
          "execution_count": 5
        }
      ]
    },
    {
      "cell_type": "code",
      "source": [
        "df.head()"
      ],
      "metadata": {
        "colab": {
          "base_uri": "https://localhost:8080/",
          "height": 206
        },
        "id": "TUYpJfnc440m",
        "outputId": "7e3cec3e-6ba7-4ad6-c752-2727c2b85114"
      },
      "execution_count": null,
      "outputs": [
        {
          "output_type": "execute_result",
          "data": {
            "text/plain": [
              "   Unnamed: 0 Date received  \\\n",
              "0           0    2022-04-07   \n",
              "1           1    2023-11-05   \n",
              "2           2    2023-07-10   \n",
              "3           3    2021-12-10   \n",
              "4           4    2023-08-06   \n",
              "\n",
              "                                           narrative     product_category  \n",
              "0  ['please', 'advised', 'listed', 'recently', 'r...     credit_reporting  \n",
              "1  ['approved', 'grant', 'haf', 'cover', 'mortgag...  mortgages_and_loans  \n",
              "2  ['victim', 'trading', 'years', 'finally', 'got...      debt_collection  \n",
              "3  ['reviewing', 'credit', 'card', 'statement', '...          credit_card  \n",
              "4  ['placed', 'order', 'curling', 'irons', 'via',...          credit_card  "
            ],
            "text/html": [
              "\n",
              "  <div id=\"df-bb891ae0-f218-42c0-af51-edc616e35ef0\" class=\"colab-df-container\">\n",
              "    <div>\n",
              "<style scoped>\n",
              "    .dataframe tbody tr th:only-of-type {\n",
              "        vertical-align: middle;\n",
              "    }\n",
              "\n",
              "    .dataframe tbody tr th {\n",
              "        vertical-align: top;\n",
              "    }\n",
              "\n",
              "    .dataframe thead th {\n",
              "        text-align: right;\n",
              "    }\n",
              "</style>\n",
              "<table border=\"1\" class=\"dataframe\">\n",
              "  <thead>\n",
              "    <tr style=\"text-align: right;\">\n",
              "      <th></th>\n",
              "      <th>Unnamed: 0</th>\n",
              "      <th>Date received</th>\n",
              "      <th>narrative</th>\n",
              "      <th>product_category</th>\n",
              "    </tr>\n",
              "  </thead>\n",
              "  <tbody>\n",
              "    <tr>\n",
              "      <th>0</th>\n",
              "      <td>0</td>\n",
              "      <td>2022-04-07</td>\n",
              "      <td>['please', 'advised', 'listed', 'recently', 'r...</td>\n",
              "      <td>credit_reporting</td>\n",
              "    </tr>\n",
              "    <tr>\n",
              "      <th>1</th>\n",
              "      <td>1</td>\n",
              "      <td>2023-11-05</td>\n",
              "      <td>['approved', 'grant', 'haf', 'cover', 'mortgag...</td>\n",
              "      <td>mortgages_and_loans</td>\n",
              "    </tr>\n",
              "    <tr>\n",
              "      <th>2</th>\n",
              "      <td>2</td>\n",
              "      <td>2023-07-10</td>\n",
              "      <td>['victim', 'trading', 'years', 'finally', 'got...</td>\n",
              "      <td>debt_collection</td>\n",
              "    </tr>\n",
              "    <tr>\n",
              "      <th>3</th>\n",
              "      <td>3</td>\n",
              "      <td>2021-12-10</td>\n",
              "      <td>['reviewing', 'credit', 'card', 'statement', '...</td>\n",
              "      <td>credit_card</td>\n",
              "    </tr>\n",
              "    <tr>\n",
              "      <th>4</th>\n",
              "      <td>4</td>\n",
              "      <td>2023-08-06</td>\n",
              "      <td>['placed', 'order', 'curling', 'irons', 'via',...</td>\n",
              "      <td>credit_card</td>\n",
              "    </tr>\n",
              "  </tbody>\n",
              "</table>\n",
              "</div>\n",
              "    <div class=\"colab-df-buttons\">\n",
              "\n",
              "  <div class=\"colab-df-container\">\n",
              "    <button class=\"colab-df-convert\" onclick=\"convertToInteractive('df-bb891ae0-f218-42c0-af51-edc616e35ef0')\"\n",
              "            title=\"Convert this dataframe to an interactive table.\"\n",
              "            style=\"display:none;\">\n",
              "\n",
              "  <svg xmlns=\"http://www.w3.org/2000/svg\" height=\"24px\" viewBox=\"0 -960 960 960\">\n",
              "    <path d=\"M120-120v-720h720v720H120Zm60-500h600v-160H180v160Zm220 220h160v-160H400v160Zm0 220h160v-160H400v160ZM180-400h160v-160H180v160Zm440 0h160v-160H620v160ZM180-180h160v-160H180v160Zm440 0h160v-160H620v160Z\"/>\n",
              "  </svg>\n",
              "    </button>\n",
              "\n",
              "  <style>\n",
              "    .colab-df-container {\n",
              "      display:flex;\n",
              "      gap: 12px;\n",
              "    }\n",
              "\n",
              "    .colab-df-convert {\n",
              "      background-color: #E8F0FE;\n",
              "      border: none;\n",
              "      border-radius: 50%;\n",
              "      cursor: pointer;\n",
              "      display: none;\n",
              "      fill: #1967D2;\n",
              "      height: 32px;\n",
              "      padding: 0 0 0 0;\n",
              "      width: 32px;\n",
              "    }\n",
              "\n",
              "    .colab-df-convert:hover {\n",
              "      background-color: #E2EBFA;\n",
              "      box-shadow: 0px 1px 2px rgba(60, 64, 67, 0.3), 0px 1px 3px 1px rgba(60, 64, 67, 0.15);\n",
              "      fill: #174EA6;\n",
              "    }\n",
              "\n",
              "    .colab-df-buttons div {\n",
              "      margin-bottom: 4px;\n",
              "    }\n",
              "\n",
              "    [theme=dark] .colab-df-convert {\n",
              "      background-color: #3B4455;\n",
              "      fill: #D2E3FC;\n",
              "    }\n",
              "\n",
              "    [theme=dark] .colab-df-convert:hover {\n",
              "      background-color: #434B5C;\n",
              "      box-shadow: 0px 1px 3px 1px rgba(0, 0, 0, 0.15);\n",
              "      filter: drop-shadow(0px 1px 2px rgba(0, 0, 0, 0.3));\n",
              "      fill: #FFFFFF;\n",
              "    }\n",
              "  </style>\n",
              "\n",
              "    <script>\n",
              "      const buttonEl =\n",
              "        document.querySelector('#df-bb891ae0-f218-42c0-af51-edc616e35ef0 button.colab-df-convert');\n",
              "      buttonEl.style.display =\n",
              "        google.colab.kernel.accessAllowed ? 'block' : 'none';\n",
              "\n",
              "      async function convertToInteractive(key) {\n",
              "        const element = document.querySelector('#df-bb891ae0-f218-42c0-af51-edc616e35ef0');\n",
              "        const dataTable =\n",
              "          await google.colab.kernel.invokeFunction('convertToInteractive',\n",
              "                                                    [key], {});\n",
              "        if (!dataTable) return;\n",
              "\n",
              "        const docLinkHtml = 'Like what you see? Visit the ' +\n",
              "          '<a target=\"_blank\" href=https://colab.research.google.com/notebooks/data_table.ipynb>data table notebook</a>'\n",
              "          + ' to learn more about interactive tables.';\n",
              "        element.innerHTML = '';\n",
              "        dataTable['output_type'] = 'display_data';\n",
              "        await google.colab.output.renderOutput(dataTable, element);\n",
              "        const docLink = document.createElement('div');\n",
              "        docLink.innerHTML = docLinkHtml;\n",
              "        element.appendChild(docLink);\n",
              "      }\n",
              "    </script>\n",
              "  </div>\n",
              "\n",
              "\n",
              "<div id=\"df-76b1efb9-07bf-4a49-bee2-4e32671d66c9\">\n",
              "  <button class=\"colab-df-quickchart\" onclick=\"quickchart('df-76b1efb9-07bf-4a49-bee2-4e32671d66c9')\"\n",
              "            title=\"Suggest charts\"\n",
              "            style=\"display:none;\">\n",
              "\n",
              "<svg xmlns=\"http://www.w3.org/2000/svg\" height=\"24px\"viewBox=\"0 0 24 24\"\n",
              "     width=\"24px\">\n",
              "    <g>\n",
              "        <path d=\"M19 3H5c-1.1 0-2 .9-2 2v14c0 1.1.9 2 2 2h14c1.1 0 2-.9 2-2V5c0-1.1-.9-2-2-2zM9 17H7v-7h2v7zm4 0h-2V7h2v10zm4 0h-2v-4h2v4z\"/>\n",
              "    </g>\n",
              "</svg>\n",
              "  </button>\n",
              "\n",
              "<style>\n",
              "  .colab-df-quickchart {\n",
              "      --bg-color: #E8F0FE;\n",
              "      --fill-color: #1967D2;\n",
              "      --hover-bg-color: #E2EBFA;\n",
              "      --hover-fill-color: #174EA6;\n",
              "      --disabled-fill-color: #AAA;\n",
              "      --disabled-bg-color: #DDD;\n",
              "  }\n",
              "\n",
              "  [theme=dark] .colab-df-quickchart {\n",
              "      --bg-color: #3B4455;\n",
              "      --fill-color: #D2E3FC;\n",
              "      --hover-bg-color: #434B5C;\n",
              "      --hover-fill-color: #FFFFFF;\n",
              "      --disabled-bg-color: #3B4455;\n",
              "      --disabled-fill-color: #666;\n",
              "  }\n",
              "\n",
              "  .colab-df-quickchart {\n",
              "    background-color: var(--bg-color);\n",
              "    border: none;\n",
              "    border-radius: 50%;\n",
              "    cursor: pointer;\n",
              "    display: none;\n",
              "    fill: var(--fill-color);\n",
              "    height: 32px;\n",
              "    padding: 0;\n",
              "    width: 32px;\n",
              "  }\n",
              "\n",
              "  .colab-df-quickchart:hover {\n",
              "    background-color: var(--hover-bg-color);\n",
              "    box-shadow: 0 1px 2px rgba(60, 64, 67, 0.3), 0 1px 3px 1px rgba(60, 64, 67, 0.15);\n",
              "    fill: var(--button-hover-fill-color);\n",
              "  }\n",
              "\n",
              "  .colab-df-quickchart-complete:disabled,\n",
              "  .colab-df-quickchart-complete:disabled:hover {\n",
              "    background-color: var(--disabled-bg-color);\n",
              "    fill: var(--disabled-fill-color);\n",
              "    box-shadow: none;\n",
              "  }\n",
              "\n",
              "  .colab-df-spinner {\n",
              "    border: 2px solid var(--fill-color);\n",
              "    border-color: transparent;\n",
              "    border-bottom-color: var(--fill-color);\n",
              "    animation:\n",
              "      spin 1s steps(1) infinite;\n",
              "  }\n",
              "\n",
              "  @keyframes spin {\n",
              "    0% {\n",
              "      border-color: transparent;\n",
              "      border-bottom-color: var(--fill-color);\n",
              "      border-left-color: var(--fill-color);\n",
              "    }\n",
              "    20% {\n",
              "      border-color: transparent;\n",
              "      border-left-color: var(--fill-color);\n",
              "      border-top-color: var(--fill-color);\n",
              "    }\n",
              "    30% {\n",
              "      border-color: transparent;\n",
              "      border-left-color: var(--fill-color);\n",
              "      border-top-color: var(--fill-color);\n",
              "      border-right-color: var(--fill-color);\n",
              "    }\n",
              "    40% {\n",
              "      border-color: transparent;\n",
              "      border-right-color: var(--fill-color);\n",
              "      border-top-color: var(--fill-color);\n",
              "    }\n",
              "    60% {\n",
              "      border-color: transparent;\n",
              "      border-right-color: var(--fill-color);\n",
              "    }\n",
              "    80% {\n",
              "      border-color: transparent;\n",
              "      border-right-color: var(--fill-color);\n",
              "      border-bottom-color: var(--fill-color);\n",
              "    }\n",
              "    90% {\n",
              "      border-color: transparent;\n",
              "      border-bottom-color: var(--fill-color);\n",
              "    }\n",
              "  }\n",
              "</style>\n",
              "\n",
              "  <script>\n",
              "    async function quickchart(key) {\n",
              "      const quickchartButtonEl =\n",
              "        document.querySelector('#' + key + ' button');\n",
              "      quickchartButtonEl.disabled = true;  // To prevent multiple clicks.\n",
              "      quickchartButtonEl.classList.add('colab-df-spinner');\n",
              "      try {\n",
              "        const charts = await google.colab.kernel.invokeFunction(\n",
              "            'suggestCharts', [key], {});\n",
              "      } catch (error) {\n",
              "        console.error('Error during call to suggestCharts:', error);\n",
              "      }\n",
              "      quickchartButtonEl.classList.remove('colab-df-spinner');\n",
              "      quickchartButtonEl.classList.add('colab-df-quickchart-complete');\n",
              "    }\n",
              "    (() => {\n",
              "      let quickchartButtonEl =\n",
              "        document.querySelector('#df-76b1efb9-07bf-4a49-bee2-4e32671d66c9 button');\n",
              "      quickchartButtonEl.style.display =\n",
              "        google.colab.kernel.accessAllowed ? 'block' : 'none';\n",
              "    })();\n",
              "  </script>\n",
              "</div>\n",
              "    </div>\n",
              "  </div>\n"
            ],
            "application/vnd.google.colaboratory.intrinsic+json": {
              "type": "dataframe",
              "variable_name": "df"
            }
          },
          "metadata": {},
          "execution_count": 6
        }
      ]
    },
    {
      "cell_type": "code",
      "source": [
        "len(df['narrative'].unique())"
      ],
      "metadata": {
        "colab": {
          "base_uri": "https://localhost:8080/"
        },
        "id": "9yj46gvc4-hd",
        "outputId": "e2bf428d-36e2-4999-ba36-fb295dae24fa"
      },
      "execution_count": null,
      "outputs": [
        {
          "output_type": "execute_result",
          "data": {
            "text/plain": [
              "136869"
            ]
          },
          "metadata": {},
          "execution_count": 7
        }
      ]
    },
    {
      "cell_type": "code",
      "source": [
        "df.drop_duplicates(subset='narrative', keep='first', inplace=True)"
      ],
      "metadata": {
        "id": "UChgk0Iw5Czo"
      },
      "execution_count": null,
      "outputs": []
    },
    {
      "cell_type": "code",
      "source": [
        "df.shape"
      ],
      "metadata": {
        "colab": {
          "base_uri": "https://localhost:8080/"
        },
        "id": "qogDrg0r5FwL",
        "outputId": "c5b97394-21d0-4ac9-9882-810f727e942e"
      },
      "execution_count": null,
      "outputs": [
        {
          "output_type": "execute_result",
          "data": {
            "text/plain": [
              "(136869, 4)"
            ]
          },
          "metadata": {},
          "execution_count": 9
        }
      ]
    },
    {
      "cell_type": "code",
      "source": [
        "from sklearn.model_selection import train_test_split\n",
        "train, test = train_test_split(df, test_size=0.20, random_state=128)"
      ],
      "metadata": {
        "id": "3xnrlMlH5JrN"
      },
      "execution_count": null,
      "outputs": []
    },
    {
      "cell_type": "code",
      "source": [
        "count = 50000\n",
        "\n",
        "# Create a DataFrame with randomly sampled entries for each category\n",
        "trainData = train.sample(count, random_state=42).reset_index(drop=True)\n",
        "\n",
        "print(trainData['product_category'].value_counts())"
      ],
      "metadata": {
        "colab": {
          "base_uri": "https://localhost:8080/"
        },
        "id": "pstCRc0y5NJz",
        "outputId": "5c319ac8-7909-4bea-acb0-c4dbbb7c3046"
      },
      "execution_count": null,
      "outputs": [
        {
          "output_type": "stream",
          "name": "stdout",
          "text": [
            "product_category\n",
            "credit_card            10222\n",
            "debt_collection        10192\n",
            "retail_banking         10169\n",
            "mortgages_and_loans    10164\n",
            "credit_reporting        9253\n",
            "Name: count, dtype: int64\n"
          ]
        }
      ]
    },
    {
      "cell_type": "code",
      "source": [
        "trainData.shape"
      ],
      "metadata": {
        "colab": {
          "base_uri": "https://localhost:8080/"
        },
        "id": "3ikyjV_p5RVA",
        "outputId": "57a77480-fde5-4c86-9503-10b6c0177733"
      },
      "execution_count": null,
      "outputs": [
        {
          "output_type": "execute_result",
          "data": {
            "text/plain": [
              "(50000, 4)"
            ]
          },
          "metadata": {},
          "execution_count": 12
        }
      ]
    },
    {
      "cell_type": "code",
      "source": [
        "trainData"
      ],
      "metadata": {
        "colab": {
          "base_uri": "https://localhost:8080/",
          "height": 423
        },
        "id": "n-fJiDxl5UBW",
        "outputId": "c97578b4-d385-431e-d0be-9773fc3599d7"
      },
      "execution_count": null,
      "outputs": [
        {
          "output_type": "execute_result",
          "data": {
            "text/plain": [
              "       Unnamed: 0 Date received  \\\n",
              "0           21100    2023-02-21   \n",
              "1          139838    2023-07-22   \n",
              "2           45401    2023-05-09   \n",
              "3           45938    2022-08-01   \n",
              "4          135578    2021-11-23   \n",
              "...           ...           ...   \n",
              "49995       89450    2023-11-29   \n",
              "49996       32893    2022-07-07   \n",
              "49997       78570    2023-09-20   \n",
              "49998       87104    2022-08-25   \n",
              "49999       48773    2021-12-19   \n",
              "\n",
              "                                               narrative     product_category  \n",
              "0      ['received', 'email', 'capital', 'one', 'inexp...       retail_banking  \n",
              "1      ['placed', 'order', 'amount', 'custom', 'sofa'...          credit_card  \n",
              "2      ['contacted', 'multiple', 'times', 'times', 'd...      debt_collection  \n",
              "3      ['suntrust', 'turned', 'truist', 'existed', 's...          credit_card  \n",
              "4      ['flooded', 'due', 'hurricane', 'ida', 'called...  mortgages_and_loans  \n",
              "...                                                  ...                  ...  \n",
              "49995  ['problem', 'began', 'original', 'account', 'c...          credit_card  \n",
              "49996  ['received', 'letter', 'approximately', 'month...      debt_collection  \n",
              "49997  ['accounts', 'boa', 'got', 'scammed', 'sent', ...       retail_banking  \n",
              "49998  ['called', 'late', 'request', 'start', 'pmi', ...  mortgages_and_loans  \n",
              "49999  ['purchased', 'facilitated', 'loan', 'fifth', ...  mortgages_and_loans  \n",
              "\n",
              "[50000 rows x 4 columns]"
            ],
            "text/html": [
              "\n",
              "  <div id=\"df-b9304d9a-f26a-4815-a122-da8e57b63838\" class=\"colab-df-container\">\n",
              "    <div>\n",
              "<style scoped>\n",
              "    .dataframe tbody tr th:only-of-type {\n",
              "        vertical-align: middle;\n",
              "    }\n",
              "\n",
              "    .dataframe tbody tr th {\n",
              "        vertical-align: top;\n",
              "    }\n",
              "\n",
              "    .dataframe thead th {\n",
              "        text-align: right;\n",
              "    }\n",
              "</style>\n",
              "<table border=\"1\" class=\"dataframe\">\n",
              "  <thead>\n",
              "    <tr style=\"text-align: right;\">\n",
              "      <th></th>\n",
              "      <th>Unnamed: 0</th>\n",
              "      <th>Date received</th>\n",
              "      <th>narrative</th>\n",
              "      <th>product_category</th>\n",
              "    </tr>\n",
              "  </thead>\n",
              "  <tbody>\n",
              "    <tr>\n",
              "      <th>0</th>\n",
              "      <td>21100</td>\n",
              "      <td>2023-02-21</td>\n",
              "      <td>['received', 'email', 'capital', 'one', 'inexp...</td>\n",
              "      <td>retail_banking</td>\n",
              "    </tr>\n",
              "    <tr>\n",
              "      <th>1</th>\n",
              "      <td>139838</td>\n",
              "      <td>2023-07-22</td>\n",
              "      <td>['placed', 'order', 'amount', 'custom', 'sofa'...</td>\n",
              "      <td>credit_card</td>\n",
              "    </tr>\n",
              "    <tr>\n",
              "      <th>2</th>\n",
              "      <td>45401</td>\n",
              "      <td>2023-05-09</td>\n",
              "      <td>['contacted', 'multiple', 'times', 'times', 'd...</td>\n",
              "      <td>debt_collection</td>\n",
              "    </tr>\n",
              "    <tr>\n",
              "      <th>3</th>\n",
              "      <td>45938</td>\n",
              "      <td>2022-08-01</td>\n",
              "      <td>['suntrust', 'turned', 'truist', 'existed', 's...</td>\n",
              "      <td>credit_card</td>\n",
              "    </tr>\n",
              "    <tr>\n",
              "      <th>4</th>\n",
              "      <td>135578</td>\n",
              "      <td>2021-11-23</td>\n",
              "      <td>['flooded', 'due', 'hurricane', 'ida', 'called...</td>\n",
              "      <td>mortgages_and_loans</td>\n",
              "    </tr>\n",
              "    <tr>\n",
              "      <th>...</th>\n",
              "      <td>...</td>\n",
              "      <td>...</td>\n",
              "      <td>...</td>\n",
              "      <td>...</td>\n",
              "    </tr>\n",
              "    <tr>\n",
              "      <th>49995</th>\n",
              "      <td>89450</td>\n",
              "      <td>2023-11-29</td>\n",
              "      <td>['problem', 'began', 'original', 'account', 'c...</td>\n",
              "      <td>credit_card</td>\n",
              "    </tr>\n",
              "    <tr>\n",
              "      <th>49996</th>\n",
              "      <td>32893</td>\n",
              "      <td>2022-07-07</td>\n",
              "      <td>['received', 'letter', 'approximately', 'month...</td>\n",
              "      <td>debt_collection</td>\n",
              "    </tr>\n",
              "    <tr>\n",
              "      <th>49997</th>\n",
              "      <td>78570</td>\n",
              "      <td>2023-09-20</td>\n",
              "      <td>['accounts', 'boa', 'got', 'scammed', 'sent', ...</td>\n",
              "      <td>retail_banking</td>\n",
              "    </tr>\n",
              "    <tr>\n",
              "      <th>49998</th>\n",
              "      <td>87104</td>\n",
              "      <td>2022-08-25</td>\n",
              "      <td>['called', 'late', 'request', 'start', 'pmi', ...</td>\n",
              "      <td>mortgages_and_loans</td>\n",
              "    </tr>\n",
              "    <tr>\n",
              "      <th>49999</th>\n",
              "      <td>48773</td>\n",
              "      <td>2021-12-19</td>\n",
              "      <td>['purchased', 'facilitated', 'loan', 'fifth', ...</td>\n",
              "      <td>mortgages_and_loans</td>\n",
              "    </tr>\n",
              "  </tbody>\n",
              "</table>\n",
              "<p>50000 rows × 4 columns</p>\n",
              "</div>\n",
              "    <div class=\"colab-df-buttons\">\n",
              "\n",
              "  <div class=\"colab-df-container\">\n",
              "    <button class=\"colab-df-convert\" onclick=\"convertToInteractive('df-b9304d9a-f26a-4815-a122-da8e57b63838')\"\n",
              "            title=\"Convert this dataframe to an interactive table.\"\n",
              "            style=\"display:none;\">\n",
              "\n",
              "  <svg xmlns=\"http://www.w3.org/2000/svg\" height=\"24px\" viewBox=\"0 -960 960 960\">\n",
              "    <path d=\"M120-120v-720h720v720H120Zm60-500h600v-160H180v160Zm220 220h160v-160H400v160Zm0 220h160v-160H400v160ZM180-400h160v-160H180v160Zm440 0h160v-160H620v160ZM180-180h160v-160H180v160Zm440 0h160v-160H620v160Z\"/>\n",
              "  </svg>\n",
              "    </button>\n",
              "\n",
              "  <style>\n",
              "    .colab-df-container {\n",
              "      display:flex;\n",
              "      gap: 12px;\n",
              "    }\n",
              "\n",
              "    .colab-df-convert {\n",
              "      background-color: #E8F0FE;\n",
              "      border: none;\n",
              "      border-radius: 50%;\n",
              "      cursor: pointer;\n",
              "      display: none;\n",
              "      fill: #1967D2;\n",
              "      height: 32px;\n",
              "      padding: 0 0 0 0;\n",
              "      width: 32px;\n",
              "    }\n",
              "\n",
              "    .colab-df-convert:hover {\n",
              "      background-color: #E2EBFA;\n",
              "      box-shadow: 0px 1px 2px rgba(60, 64, 67, 0.3), 0px 1px 3px 1px rgba(60, 64, 67, 0.15);\n",
              "      fill: #174EA6;\n",
              "    }\n",
              "\n",
              "    .colab-df-buttons div {\n",
              "      margin-bottom: 4px;\n",
              "    }\n",
              "\n",
              "    [theme=dark] .colab-df-convert {\n",
              "      background-color: #3B4455;\n",
              "      fill: #D2E3FC;\n",
              "    }\n",
              "\n",
              "    [theme=dark] .colab-df-convert:hover {\n",
              "      background-color: #434B5C;\n",
              "      box-shadow: 0px 1px 3px 1px rgba(0, 0, 0, 0.15);\n",
              "      filter: drop-shadow(0px 1px 2px rgba(0, 0, 0, 0.3));\n",
              "      fill: #FFFFFF;\n",
              "    }\n",
              "  </style>\n",
              "\n",
              "    <script>\n",
              "      const buttonEl =\n",
              "        document.querySelector('#df-b9304d9a-f26a-4815-a122-da8e57b63838 button.colab-df-convert');\n",
              "      buttonEl.style.display =\n",
              "        google.colab.kernel.accessAllowed ? 'block' : 'none';\n",
              "\n",
              "      async function convertToInteractive(key) {\n",
              "        const element = document.querySelector('#df-b9304d9a-f26a-4815-a122-da8e57b63838');\n",
              "        const dataTable =\n",
              "          await google.colab.kernel.invokeFunction('convertToInteractive',\n",
              "                                                    [key], {});\n",
              "        if (!dataTable) return;\n",
              "\n",
              "        const docLinkHtml = 'Like what you see? Visit the ' +\n",
              "          '<a target=\"_blank\" href=https://colab.research.google.com/notebooks/data_table.ipynb>data table notebook</a>'\n",
              "          + ' to learn more about interactive tables.';\n",
              "        element.innerHTML = '';\n",
              "        dataTable['output_type'] = 'display_data';\n",
              "        await google.colab.output.renderOutput(dataTable, element);\n",
              "        const docLink = document.createElement('div');\n",
              "        docLink.innerHTML = docLinkHtml;\n",
              "        element.appendChild(docLink);\n",
              "      }\n",
              "    </script>\n",
              "  </div>\n",
              "\n",
              "\n",
              "<div id=\"df-43083512-bbd9-494d-b394-de69c30d60bf\">\n",
              "  <button class=\"colab-df-quickchart\" onclick=\"quickchart('df-43083512-bbd9-494d-b394-de69c30d60bf')\"\n",
              "            title=\"Suggest charts\"\n",
              "            style=\"display:none;\">\n",
              "\n",
              "<svg xmlns=\"http://www.w3.org/2000/svg\" height=\"24px\"viewBox=\"0 0 24 24\"\n",
              "     width=\"24px\">\n",
              "    <g>\n",
              "        <path d=\"M19 3H5c-1.1 0-2 .9-2 2v14c0 1.1.9 2 2 2h14c1.1 0 2-.9 2-2V5c0-1.1-.9-2-2-2zM9 17H7v-7h2v7zm4 0h-2V7h2v10zm4 0h-2v-4h2v4z\"/>\n",
              "    </g>\n",
              "</svg>\n",
              "  </button>\n",
              "\n",
              "<style>\n",
              "  .colab-df-quickchart {\n",
              "      --bg-color: #E8F0FE;\n",
              "      --fill-color: #1967D2;\n",
              "      --hover-bg-color: #E2EBFA;\n",
              "      --hover-fill-color: #174EA6;\n",
              "      --disabled-fill-color: #AAA;\n",
              "      --disabled-bg-color: #DDD;\n",
              "  }\n",
              "\n",
              "  [theme=dark] .colab-df-quickchart {\n",
              "      --bg-color: #3B4455;\n",
              "      --fill-color: #D2E3FC;\n",
              "      --hover-bg-color: #434B5C;\n",
              "      --hover-fill-color: #FFFFFF;\n",
              "      --disabled-bg-color: #3B4455;\n",
              "      --disabled-fill-color: #666;\n",
              "  }\n",
              "\n",
              "  .colab-df-quickchart {\n",
              "    background-color: var(--bg-color);\n",
              "    border: none;\n",
              "    border-radius: 50%;\n",
              "    cursor: pointer;\n",
              "    display: none;\n",
              "    fill: var(--fill-color);\n",
              "    height: 32px;\n",
              "    padding: 0;\n",
              "    width: 32px;\n",
              "  }\n",
              "\n",
              "  .colab-df-quickchart:hover {\n",
              "    background-color: var(--hover-bg-color);\n",
              "    box-shadow: 0 1px 2px rgba(60, 64, 67, 0.3), 0 1px 3px 1px rgba(60, 64, 67, 0.15);\n",
              "    fill: var(--button-hover-fill-color);\n",
              "  }\n",
              "\n",
              "  .colab-df-quickchart-complete:disabled,\n",
              "  .colab-df-quickchart-complete:disabled:hover {\n",
              "    background-color: var(--disabled-bg-color);\n",
              "    fill: var(--disabled-fill-color);\n",
              "    box-shadow: none;\n",
              "  }\n",
              "\n",
              "  .colab-df-spinner {\n",
              "    border: 2px solid var(--fill-color);\n",
              "    border-color: transparent;\n",
              "    border-bottom-color: var(--fill-color);\n",
              "    animation:\n",
              "      spin 1s steps(1) infinite;\n",
              "  }\n",
              "\n",
              "  @keyframes spin {\n",
              "    0% {\n",
              "      border-color: transparent;\n",
              "      border-bottom-color: var(--fill-color);\n",
              "      border-left-color: var(--fill-color);\n",
              "    }\n",
              "    20% {\n",
              "      border-color: transparent;\n",
              "      border-left-color: var(--fill-color);\n",
              "      border-top-color: var(--fill-color);\n",
              "    }\n",
              "    30% {\n",
              "      border-color: transparent;\n",
              "      border-left-color: var(--fill-color);\n",
              "      border-top-color: var(--fill-color);\n",
              "      border-right-color: var(--fill-color);\n",
              "    }\n",
              "    40% {\n",
              "      border-color: transparent;\n",
              "      border-right-color: var(--fill-color);\n",
              "      border-top-color: var(--fill-color);\n",
              "    }\n",
              "    60% {\n",
              "      border-color: transparent;\n",
              "      border-right-color: var(--fill-color);\n",
              "    }\n",
              "    80% {\n",
              "      border-color: transparent;\n",
              "      border-right-color: var(--fill-color);\n",
              "      border-bottom-color: var(--fill-color);\n",
              "    }\n",
              "    90% {\n",
              "      border-color: transparent;\n",
              "      border-bottom-color: var(--fill-color);\n",
              "    }\n",
              "  }\n",
              "</style>\n",
              "\n",
              "  <script>\n",
              "    async function quickchart(key) {\n",
              "      const quickchartButtonEl =\n",
              "        document.querySelector('#' + key + ' button');\n",
              "      quickchartButtonEl.disabled = true;  // To prevent multiple clicks.\n",
              "      quickchartButtonEl.classList.add('colab-df-spinner');\n",
              "      try {\n",
              "        const charts = await google.colab.kernel.invokeFunction(\n",
              "            'suggestCharts', [key], {});\n",
              "      } catch (error) {\n",
              "        console.error('Error during call to suggestCharts:', error);\n",
              "      }\n",
              "      quickchartButtonEl.classList.remove('colab-df-spinner');\n",
              "      quickchartButtonEl.classList.add('colab-df-quickchart-complete');\n",
              "    }\n",
              "    (() => {\n",
              "      let quickchartButtonEl =\n",
              "        document.querySelector('#df-43083512-bbd9-494d-b394-de69c30d60bf button');\n",
              "      quickchartButtonEl.style.display =\n",
              "        google.colab.kernel.accessAllowed ? 'block' : 'none';\n",
              "    })();\n",
              "  </script>\n",
              "</div>\n",
              "    </div>\n",
              "  </div>\n"
            ],
            "application/vnd.google.colaboratory.intrinsic+json": {
              "type": "dataframe",
              "variable_name": "trainData",
              "summary": "{\n  \"name\": \"trainData\",\n  \"rows\": 50000,\n  \"fields\": [\n    {\n      \"column\": \"Unnamed: 0\",\n      \"properties\": {\n        \"dtype\": \"number\",\n        \"std\": 40392,\n        \"min\": 1,\n        \"max\": 139996,\n        \"num_unique_values\": 50000,\n        \"samples\": [\n          34773,\n          82146,\n          23424\n        ],\n        \"semantic_type\": \"\",\n        \"description\": \"\"\n      }\n    },\n    {\n      \"column\": \"Date received\",\n      \"properties\": {\n        \"dtype\": \"object\",\n        \"num_unique_values\": 852,\n        \"samples\": [\n          \"2022-10-12\",\n          \"2023-10-05\",\n          \"2023-03-09\"\n        ],\n        \"semantic_type\": \"\",\n        \"description\": \"\"\n      }\n    },\n    {\n      \"column\": \"narrative\",\n      \"properties\": {\n        \"dtype\": \"string\",\n        \"num_unique_values\": 50000,\n        \"samples\": [\n          \"['ive', 'sent', 'certified', 'mail', 'regards', 'collection', 'seeking', 'signed', 'documents', 'never', 'received', 'also', 'hipaa', 'violation', 'rights', 'violated', 'company']\",\n          \"['went', 'loan', 'place', 'xxxxxxxx', 'georgia', 'credit', 'central', 'said', 'go', 'credit', 'man', 'never', 'calls', 'back', 'let', 'know', 'anything', 'called', 'said', 'refusing', 'get', 'emergency', 'funds', 'georgia', 'last', 'year', 'loan', 'get', 'pay', 'back']\",\n          \"['stopped', 'local', 'branch', 'located', 'fl', 'spoke', 'personal', 'banker', 'online', 'access', 'saw', 'note', 'account', 'called', 'fraud', 'department', 'fraud', 'department', 'informed', 'closing', 'account', 'reason', 'given', 'left', 'confused', 'banker', 'later', 'found', 'due', 'dispute', 'mentioned', 'unusual', 'since', 'dispute', 'positively', 'resolved', 'said', 'havent', 'access', 'account', 'since', 'time', 'see', 'emails', 'payroll', 'still', 'going', 'account', 'want', 'hold', 'lifted', 'immediately', 'online', 'access', 'restored', 'write', 'ethics', 'department', 'board', 'directors', 'bank', 'state', 'attorney', 'generals', 'office', 'due', 'restricting', 'account', 'funds', 'reasoning', 'given', 'provided', 'notice', 'address', 'whatsoever', 'online', 'notice', 'email', 'well', 'seek', 'resolution', 'resolve', 'reverse', 'decision', 'grounds', 'merit', 'inconclusive', 'findings', 'contact', 'alternative', 'channels', 'local', 'news', 'affiliation', 'well', 'reference', 'account', 'opened', 'fl', 'seek', 'prompt', 'resolution', 'query', 'inquiry', 'investigated', 'though', 'wrong', 'account', 'details', 'provided', 'account', 'stating', 'ends', 'company', 'replied', 'back', 'something', 'doesnt', 'match', 'records', 'deposits', 'going', 'account', 'barred', 'access', 'email', 'file', 'bank', 'uncle', 'email', 'statements', 'received', 'keep', 'getting', 'daily', 'balances', 'emails', 'account', 'keeps', 'charging', 'charging', 'cant', 'access', 'stop', 'anything', 'get', 'funds']\"\n        ],\n        \"semantic_type\": \"\",\n        \"description\": \"\"\n      }\n    },\n    {\n      \"column\": \"product_category\",\n      \"properties\": {\n        \"dtype\": \"category\",\n        \"num_unique_values\": 5,\n        \"samples\": [\n          \"credit_card\",\n          \"credit_reporting\",\n          \"debt_collection\"\n        ],\n        \"semantic_type\": \"\",\n        \"description\": \"\"\n      }\n    }\n  ]\n}"
            }
          },
          "metadata": {},
          "execution_count": 13
        }
      ]
    },
    {
      "cell_type": "code",
      "source": [
        "count = 10000\n",
        "\n",
        "# Create a DataFrame with randomly sampled entries for each category\n",
        "testData = test.sample(count, random_state=42).reset_index(drop=True)\n",
        "\n",
        "print(testData['product_category'].value_counts())"
      ],
      "metadata": {
        "colab": {
          "base_uri": "https://localhost:8080/"
        },
        "id": "Pi-xkm3e5X28",
        "outputId": "2f214d0a-d2f9-4c2b-c185-73872474ec19"
      },
      "execution_count": null,
      "outputs": [
        {
          "output_type": "stream",
          "name": "stdout",
          "text": [
            "product_category\n",
            "debt_collection        2060\n",
            "credit_card            2036\n",
            "retail_banking         2026\n",
            "mortgages_and_loans    2025\n",
            "credit_reporting       1853\n",
            "Name: count, dtype: int64\n"
          ]
        }
      ]
    },
    {
      "cell_type": "code",
      "source": [
        "trainData.to_csv('/content/drive/MyDrive/NLP/NLP_PROJECT3/complaints_preprocessed_and_balanced_50000_train_data.csv')\n",
        "testData.to_csv('/content/drive/MyDrive/NLP/NLP_PROJECT3/complaints_preprocessed_and_balanced_5000_test_data.csv')"
      ],
      "metadata": {
        "id": "XhE46h-s5b03"
      },
      "execution_count": null,
      "outputs": []
    },
    {
      "cell_type": "code",
      "source": [
        "from sklearn.feature_extraction.text import CountVectorizer\n",
        "import pandas as pd\n",
        "\n",
        "classes = df['product_category'].unique()\n",
        "\n",
        "# Drop rows with missing values in the 'narrative' column\n",
        "df = df.dropna(subset=['narrative'])\n",
        "\n",
        "# Create a CountVectorizer with a maximum number of features\n",
        "max_features = 5000  # Adjust this value based on your computational resources\n",
        "vectorizer = CountVectorizer(max_features=max_features)\n",
        "X = vectorizer.fit_transform(df['narrative'])"
      ],
      "metadata": {
        "id": "M_kNtvXn5qNj"
      },
      "execution_count": null,
      "outputs": []
    },
    {
      "cell_type": "code",
      "source": [
        "X"
      ],
      "metadata": {
        "colab": {
          "base_uri": "https://localhost:8080/"
        },
        "id": "fe7I96ft6Gdl",
        "outputId": "9d9d942c-394c-4462-c31a-17aa3f174aee"
      },
      "execution_count": null,
      "outputs": [
        {
          "output_type": "execute_result",
          "data": {
            "text/plain": [
              "<136869x5000 sparse matrix of type '<class 'numpy.int64'>'\n",
              "\twith 8252163 stored elements in Compressed Sparse Row format>"
            ]
          },
          "metadata": {},
          "execution_count": 22
        }
      ]
    },
    {
      "cell_type": "code",
      "source": [
        "# Create a DataFrame to store the word frequencies for each class\n",
        "word_freq_df = pd.DataFrame(X.toarray(), columns=vectorizer.get_feature_names_out())\n",
        "word_freq_df['product_category'] = df['product_category'].reset_index(drop=True)\n",
        "\n",
        "# Identify the top 10 words for each class\n",
        "top_words_per_class = {}\n",
        "for category in classes:\n",
        "    class_word_frequencies = word_freq_df[word_freq_df['product_category'] == category].drop('product_category', axis=1).sum(axis=0)\n",
        "    top_words_per_class[category] = class_word_frequencies.nlargest(10).index.tolist()\n",
        "\n",
        "# Print or store the top words for each class\n",
        "for category, top_words in top_words_per_class.items():\n",
        "    print(f\"Top 10 words for '{category}': {', '.join(top_words)}\")"
      ],
      "metadata": {
        "colab": {
          "base_uri": "https://localhost:8080/"
        },
        "id": "BdW8SifN6M8q",
        "outputId": "b24e3691-723b-4f27-9435-61f14534cb2d"
      },
      "execution_count": null,
      "outputs": [
        {
          "output_type": "stream",
          "name": "stdout",
          "text": [
            "Top 10 words for 'credit_reporting': credit, account, information, report, consumer, reporting, section, accounts, balance, xxxxxxxx\n",
            "Top 10 words for 'mortgages_and_loans': loan, payment, mortgage, would, account, payments, credit, told, received, time\n",
            "Top 10 words for 'debt_collection': debt, credit, account, information, report, consumer, collection, company, reporting, received\n",
            "Top 10 words for 'credit_card': card, credit, account, bank, would, payment, one, received, told, called\n",
            "Top 10 words for 'retail_banking': account, bank, money, would, told, funds, check, back, called, received\n"
          ]
        }
      ]
    },
    {
      "cell_type": "code",
      "source": [
        "import pandas as pd\n",
        "from sklearn.feature_extraction.text import CountVectorizer\n",
        "import matplotlib.pyplot as plt\n",
        "import seaborn as sns\n",
        "\n",
        "# Assuming you have a DataFrame named df with a 'narrative' column and a 'product' column\n",
        "# Replace 'your_column_names' with the actual column names in your DataFrame\n",
        "\n",
        "# Create a CountVectorizer\n",
        "vectorizer = CountVectorizer(stop_words='english', vocabulary=['card'])\n",
        "\n",
        "# Transform the 'narrative' column into a bag-of-words representation\n",
        "X = vectorizer.fit_transform(trainData['narrative'])\n",
        "\n",
        "# Create a DataFrame to store the word frequencies for each class\n",
        "word_freq_df = pd.DataFrame(X.toarray(), columns=vectorizer.get_feature_names_out())\n",
        "word_freq_df['product_category'] = trainData['product_category'].reset_index(drop=True)\n",
        "\n",
        "# Calculate the percentage of 'card' in each class\n",
        "percentage_per_class = {}\n",
        "total_samples = len(trainData)\n",
        "\n",
        "for category in trainData['product_category'].unique():\n",
        "    class_occurrences = word_freq_df[word_freq_df['product_category'] == category]['card'].sum()\n",
        "    percentage = (class_occurrences / total_samples) * 100\n",
        "    percentage_per_class[category] = percentage\n",
        "\n",
        "# Plot the percentages\n",
        "plt.figure(figsize=(10, 6))\n",
        "sns.barplot(x=list(percentage_per_class.keys()), y=list(percentage_per_class.values()))\n",
        "plt.title('Percentage of \"card\" in each class')\n",
        "plt.xlabel('Product Category')\n",
        "plt.ylabel('Percentage')\n",
        "plt.show()\n"
      ],
      "metadata": {
        "colab": {
          "base_uri": "https://localhost:8080/",
          "height": 564
        },
        "id": "pQqdZHOs6ORz",
        "outputId": "5b666f04-d623-4b25-905a-ccf385a34dbb"
      },
      "execution_count": null,
      "outputs": [
        {
          "output_type": "display_data",
          "data": {
            "text/plain": [
              "<Figure size 1000x600 with 1 Axes>"
            ],
            "image/png": "[encoded data removed]"
          },
          "metadata": {}
        }
      ]
    },
    {
      "cell_type": "code",
      "source": [
        "len(df['narrative'].unique())"
      ],
      "metadata": {
        "colab": {
          "base_uri": "https://localhost:8080/"
        },
        "id": "58HM5MkE6UJy",
        "outputId": "0a2841ad-1447-4e4d-dae7-2ef2ed0bd601"
      },
      "execution_count": null,
      "outputs": [
        {
          "output_type": "execute_result",
          "data": {
            "text/plain": [
              "136869"
            ]
          },
          "metadata": {},
          "execution_count": 28
        }
      ]
    },
    {
      "cell_type": "code",
      "source": [
        "df = df.dropna(subset=['narrative'])"
      ],
      "metadata": {
        "id": "bI0elJU27CI5"
      },
      "execution_count": null,
      "outputs": []
    },
    {
      "cell_type": "code",
      "source": [
        "import pandas as pd\n",
        "from sklearn.feature_extraction.text import CountVectorizer\n",
        "import seaborn as sns\n",
        "import matplotlib.pyplot as plt\n",
        "\n",
        "# Create a CountVectorizer\n",
        "vectorizer = CountVectorizer(stop_words='english', vocabulary=['credit'])\n",
        "\n",
        "# Transform the 'narrative' column into a bag-of-words representation\n",
        "X = vectorizer.fit_transform(df['narrative'])\n",
        "\n",
        "# Create a DataFrame to store the word frequencies for each class\n",
        "word_freq_df = pd.DataFrame(X.toarray(), columns=vectorizer.get_feature_names_out())\n",
        "word_freq_df['product_category'] = df['product_category'].reset_index(drop=True)\n",
        "\n",
        "# Calculate the count of 'credit' in each class\n",
        "count_per_class = word_freq_df.groupby('product_category')['credit'].sum()\n",
        "\n",
        "# Plot the counts\n",
        "plt.figure(figsize=(10, 6))\n",
        "sns.barplot(x=count_per_class.index, y=count_per_class.values)\n",
        "plt.title('Count of \"credit\" in each product category')\n",
        "plt.xlabel('Product Category')\n",
        "plt.ylabel('Count')\n",
        "plt.show()"
      ],
      "metadata": {
        "colab": {
          "base_uri": "https://localhost:8080/",
          "height": 564
        },
        "id": "i6JBvses7HaW",
        "outputId": "e988c6c4-543e-41b0-f52e-16823370b93c"
      },
      "execution_count": null,
      "outputs": [
        {
          "output_type": "display_data",
          "data": {
            "text/plain": [
              "<Figure size 1000x600 with 1 Axes>"
            ],
            "image/png": "[encoded data removed]"
          },
          "metadata": {}
        }
      ]
    },
    {
      "cell_type": "code",
      "source": [
        "import pandas as pd\n",
        "from sklearn.feature_extraction.text import CountVectorizer\n",
        "import seaborn as sns\n",
        "import matplotlib.pyplot as plt\n",
        "\n",
        "# Specify the words you want to count\n",
        "target_words = ['credit', 'report', 'reporting', 'loan', 'mortgage', 'card', 'bank', 'account', 'debt']\n",
        "\n",
        "# Create a CountVectorizer\n",
        "vectorizer = CountVectorizer(stop_words='english', vocabulary=target_words)\n",
        "\n",
        "# Transform the 'narrative' column into a bag-of-words representation\n",
        "X = vectorizer.fit_transform(df['narrative'])\n",
        "\n",
        "# Create a DataFrame to store the word frequencies for each class\n",
        "word_freq_df = pd.DataFrame(X.toarray(), columns=vectorizer.get_feature_names_out())\n",
        "word_freq_df['product_category'] = df['product_category'].reset_index(drop=True)\n",
        "\n",
        "# Calculate the count of each word in each class\n",
        "counts_per_class = word_freq_df.groupby('product_category')[target_words].sum()\n",
        "\n",
        "# Plot the counts\n",
        "plt.figure(figsize=(14, 8))\n",
        "sns.barplot(data=counts_per_class.reset_index().melt(id_vars='product_category'), x='variable', y='value', hue='product_category')\n",
        "plt.title('Count of specified words in each product category')\n",
        "plt.xlabel('Words')\n",
        "plt.ylabel('Count')\n",
        "plt.legend(title='Product Category', bbox_to_anchor=(1.05, 1), loc='upper left')\n",
        "plt.show()\n"
      ],
      "metadata": {
        "colab": {
          "base_uri": "https://localhost:8080/",
          "height": 705
        },
        "id": "W0Mra1UA7MZ4",
        "outputId": "5c0d9c88-0b59-4de8-ba26-75452c4626d8"
      },
      "execution_count": null,
      "outputs": [
        {
          "output_type": "display_data",
          "data": {
            "text/plain": [
              "<Figure size 1400x800 with 1 Axes>"
            ],
            "image/png": "[encoded data removed]"
          },
          "metadata": {}
        }
      ]
    }
  ]
}